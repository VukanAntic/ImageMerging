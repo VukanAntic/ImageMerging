{
 "cells": [
  {
   "cell_type": "code",
   "execution_count": 5,
   "id": "1285568c",
   "metadata": {},
   "outputs": [],
   "source": [
    "import tensorflow as tf\n",
    "from tensorflow import keras\n",
    "from tensorflow.keras import layers\n",
    "from tensorflow.keras.layers import Input, Conv2D, Activation, UpSampling2D, Dropout, BatchNormalization, Conv2DTranspose, Concatenate\n",
    "from tensorflow.keras.losses import BinaryCrossentropy\n",
    "from tensorflow.keras import activations, Sequential\n",
    "import graphviz"
   ]
  },
  {
   "cell_type": "code",
   "execution_count": 6,
   "id": "2bc10a86-c9fe-4c74-ba0f-754dd0f33241",
   "metadata": {},
   "outputs": [],
   "source": [
    "LAMBDA = 100"
   ]
  },
  {
   "cell_type": "code",
   "execution_count": 7,
   "id": "cadd7cb2",
   "metadata": {},
   "outputs": [],
   "source": [
    "class Generator:\n",
    "    \n",
    "    def __init__(self, shape_of_image) :\n",
    "        self.input_layer = Input(shape=shape_of_image)\n",
    "        self.previous_layer = self.input_layer\n",
    "        \n",
    "        # downsampling\n",
    "        d1 = self.downsample(64, 4)\n",
    "        d2 = self.downsample(128, 4) \n",
    "        d3 = self.downsample(256, 4) \n",
    "        d4 = self.downsample(512, 4) \n",
    "        d5 = self.downsample(512, 4) \n",
    "        d6 = self.downsample(512, 4) \n",
    "        d7 = self.downsample(512, 4) \n",
    "        d8 = self.downsample(512, 4) \n",
    "        \n",
    "        # upsampling\n",
    "        self.upsample(512, 4, d7,  dropout_rate=0.5) \n",
    "        self.upsample(512, 4, d6,  dropout_rate=0.5) \n",
    "        self.upsample(512, 4, d5,  dropout_rate=0.5) \n",
    "        self.upsample(512, 4, d4) \n",
    "        self.upsample(256, 4, d3) \n",
    "        self.upsample(128, 4, d2) \n",
    "        self.upsample(64,  4, d1) \n",
    "        \n",
    "        self.output_layer = Conv2DTranspose(3, 4, strides=2, padding='same', activation='tanh')(self.previous_layer)\n",
    "        self.model = keras.Model(inputs=self.input_layer, outputs=self.output_layer, name=\"gen\")\n",
    "        self.optimizer = tf.keras.optimizers.Adam(2e-4, beta_1=0.5)\n",
    "        \n",
    "    \n",
    "    def downsample(self, filters, kernel_size):\n",
    "        sequential = Sequential()\n",
    "        initializer = tf.random_normal_initializer(0., 0.02)\n",
    "        conv = Conv2D(filters=filters, kernel_size=kernel_size, strides=2, padding='same', kernel_initializer=initializer)\n",
    "        sequential.add(conv)\n",
    "        norm = BatchNormalization()\n",
    "        sequential.add(norm)\n",
    "        relu = Activation(activations.relu)\n",
    "        sequential.add(relu)\n",
    "        self.previous_layer = sequential(self.previous_layer)\n",
    "        return self.previous_layer\n",
    "    \n",
    "    def upsample(self, filters, kernel_size, skip_layer=None, dropout_rate=0.0):\n",
    "        initializer = tf.random_normal_initializer(0., 0.02)\n",
    "        sequential = Sequential()\n",
    "        conv_transpose = Conv2DTranspose(filters=filters, kernel_size=kernel_size, strides=2, padding='same', kernel_initializer=initializer)\n",
    "        sequential.add(conv_transpose)\n",
    "        norm = BatchNormalization()\n",
    "        sequential.add(norm)\n",
    "        if (dropout_rate > 0) :\n",
    "            dropout = Dropout(dropout_rate)\n",
    "            sequential.add(dropout)\n",
    "            \n",
    "        relu = Activation(activations.relu)\n",
    "        sequential.add(relu)\n",
    "        self.previous_layer = sequential(self.previous_layer)\n",
    "        if skip_layer is not None:\n",
    "            self.previous_layer = tf.keras.layers.Concatenate()([self.previous_layer, skip_layer])\n",
    "\n",
    "    def loss(self, discriminator_output, generator_output, target): \n",
    "        # generator_loss = cross_entropy_loss + LAMBDA * L1_loss\n",
    "        \n",
    "        binary_cross_entropy = BinaryCrossentropy(from_logits=True)\n",
    "        # cross-entropy loss -> discriminator(generated image) & 1\n",
    "        cross_entropy_loss = binary_cross_entropy(tf.ones_like(discriminator_output), discriminator_output)\n",
    "\n",
    "        # mean absolute error -> original_image & generated image\n",
    "        l1_loss = tf.reduce_mean(tf.abs(target - generator_output))\n",
    "\n",
    "        generator_loss = cross_entropy_loss + (LAMBDA * l1_loss)\n",
    "        return generator_loss, cross_entropy_loss, l1_loss"
   ]
  },
  {
   "cell_type": "code",
   "execution_count": 8,
   "id": "f2f9a78b",
   "metadata": {},
   "outputs": [],
   "source": [
    "generator = Generator((256, 256, 3))\n",
    "generator_model = generator.model"
   ]
  },
  {
   "cell_type": "code",
   "execution_count": 9,
   "id": "e667c6ac",
   "metadata": {},
   "outputs": [
    {
     "name": "stdout",
     "output_type": "stream",
     "text": [
      "Model: \"gen\"\n",
      "__________________________________________________________________________________________________\n",
      " Layer (type)                   Output Shape         Param #     Connected to                     \n",
      "==================================================================================================\n",
      " input_2 (InputLayer)           [(None, 256, 256, 3  0           []                               \n",
      "                                )]                                                                \n",
      "                                                                                                  \n",
      " sequential_15 (Sequential)     (None, 128, 128, 64  3392        ['input_2[0][0]']                \n",
      "                                )                                                                 \n",
      "                                                                                                  \n",
      " sequential_16 (Sequential)     (None, 64, 64, 128)  131712      ['sequential_15[0][0]']          \n",
      "                                                                                                  \n",
      " sequential_17 (Sequential)     (None, 32, 32, 256)  525568      ['sequential_16[0][0]']          \n",
      "                                                                                                  \n",
      " sequential_18 (Sequential)     (None, 16, 16, 512)  2099712     ['sequential_17[0][0]']          \n",
      "                                                                                                  \n",
      " sequential_19 (Sequential)     (None, 8, 8, 512)    4196864     ['sequential_18[0][0]']          \n",
      "                                                                                                  \n",
      " sequential_20 (Sequential)     (None, 4, 4, 512)    4196864     ['sequential_19[0][0]']          \n",
      "                                                                                                  \n",
      " sequential_21 (Sequential)     (None, 2, 2, 512)    4196864     ['sequential_20[0][0]']          \n",
      "                                                                                                  \n",
      " sequential_22 (Sequential)     (None, 1, 1, 512)    4196864     ['sequential_21[0][0]']          \n",
      "                                                                                                  \n",
      " sequential_23 (Sequential)     (None, 2, 2, 512)    4196864     ['sequential_22[0][0]']          \n",
      "                                                                                                  \n",
      " concatenate_7 (Concatenate)    (None, 2, 2, 1024)   0           ['sequential_23[0][0]',          \n",
      "                                                                  'sequential_21[0][0]']          \n",
      "                                                                                                  \n",
      " sequential_24 (Sequential)     (None, 4, 4, 512)    8391168     ['concatenate_7[0][0]']          \n",
      "                                                                                                  \n",
      " concatenate_8 (Concatenate)    (None, 4, 4, 1024)   0           ['sequential_24[0][0]',          \n",
      "                                                                  'sequential_20[0][0]']          \n",
      "                                                                                                  \n",
      " sequential_25 (Sequential)     (None, 8, 8, 512)    8391168     ['concatenate_8[0][0]']          \n",
      "                                                                                                  \n",
      " concatenate_9 (Concatenate)    (None, 8, 8, 1024)   0           ['sequential_25[0][0]',          \n",
      "                                                                  'sequential_19[0][0]']          \n",
      "                                                                                                  \n",
      " sequential_26 (Sequential)     (None, 16, 16, 512)  8391168     ['concatenate_9[0][0]']          \n",
      "                                                                                                  \n",
      " concatenate_10 (Concatenate)   (None, 16, 16, 1024  0           ['sequential_26[0][0]',          \n",
      "                                )                                 'sequential_18[0][0]']          \n",
      "                                                                                                  \n",
      " sequential_27 (Sequential)     (None, 32, 32, 256)  4195584     ['concatenate_10[0][0]']         \n",
      "                                                                                                  \n",
      " concatenate_11 (Concatenate)   (None, 32, 32, 512)  0           ['sequential_27[0][0]',          \n",
      "                                                                  'sequential_17[0][0]']          \n",
      "                                                                                                  \n",
      " sequential_28 (Sequential)     (None, 64, 64, 128)  1049216     ['concatenate_11[0][0]']         \n",
      "                                                                                                  \n",
      " concatenate_12 (Concatenate)   (None, 64, 64, 256)  0           ['sequential_28[0][0]',          \n",
      "                                                                  'sequential_16[0][0]']          \n",
      "                                                                                                  \n",
      " sequential_29 (Sequential)     (None, 128, 128, 64  262464      ['concatenate_12[0][0]']         \n",
      "                                )                                                                 \n",
      "                                                                                                  \n",
      " concatenate_13 (Concatenate)   (None, 128, 128, 12  0           ['sequential_29[0][0]',          \n",
      "                                8)                                'sequential_15[0][0]']          \n",
      "                                                                                                  \n",
      " conv2d_transpose_15 (Conv2DTra  (None, 256, 256, 3)  6147       ['concatenate_13[0][0]']         \n",
      " nspose)                                                                                          \n",
      "                                                                                                  \n",
      "==================================================================================================\n",
      "Total params: 54,431,619\n",
      "Trainable params: 54,420,611\n",
      "Non-trainable params: 11,008\n",
      "__________________________________________________________________________________________________\n"
     ]
    }
   ],
   "source": [
    "generator_model.summary()"
   ]
  },
  {
   "cell_type": "code",
   "execution_count": 10,
   "id": "3caa8d45",
   "metadata": {},
   "outputs": [
    {
     "name": "stdout",
     "output_type": "stream",
     "text": [
      "You must install pydot (`pip install pydot`) and install graphviz (see instructions at https://graphviz.gitlab.io/download/) for plot_model to work.\n"
     ]
    }
   ],
   "source": [
    "keras.utils.plot_model(generator_model, show_shapes=True, dpi=64, to_file='../images/generatorModel.png')"
   ]
  },
  {
   "cell_type": "code",
   "execution_count": 11,
   "id": "3f95147e",
   "metadata": {},
   "outputs": [
    {
     "name": "stdout",
     "output_type": "stream",
     "text": [
      "<keras.optimizers.optimizer_v2.adam.Adam object at 0x000002C09ED34460>\n"
     ]
    }
   ],
   "source": [
    "print(generator.optimizer)"
   ]
  },
  {
   "cell_type": "code",
   "execution_count": null,
   "id": "93a51ff4",
   "metadata": {},
   "outputs": [],
   "source": []
  }
 ],
 "metadata": {
  "kernelspec": {
   "display_name": "Python 3 (ipykernel)",
   "language": "python",
   "name": "python3"
  },
  "language_info": {
   "codemirror_mode": {
    "name": "ipython",
    "version": 3
   },
   "file_extension": ".py",
   "mimetype": "text/x-python",
   "name": "python",
   "nbconvert_exporter": "python",
   "pygments_lexer": "ipython3",
   "version": "3.9.19"
  }
 },
 "nbformat": 4,
 "nbformat_minor": 5
}
