{
 "cells": [
  {
   "cell_type": "code",
   "execution_count": 6,
   "id": "7fdd3212-fdae-48bb-a712-e8772c6e0294",
   "metadata": {},
   "outputs": [],
   "source": [
    "# Database used: https://www.kaggle.com/datasets/puneet6060/intel-image-classification/data\n",
    "# TODO Maybe we should not be using pictures of glaciers, mountains, etc., just one single type of image\n",
    "#  (for now)\n",
    "\n",
    "import os\n",
    "import tensorflow as tf\n",
    "from matplotlib import pyplot as plt\n",
    "import cv2"
   ]
  },
  {
   "cell_type": "code",
   "execution_count": 11,
   "id": "b5ca1ec6-945b-4b0c-af65-21c5f430c415",
   "metadata": {},
   "outputs": [],
   "source": [
    "def load(image_path):\n",
    "    sample_image = tf.io.read_file(image_path)\n",
    "    sample_image = tf.io.decode_jpeg(sample_image)\n",
    "    print(sample_image.shape)\n",
    "    plt.figure()\n",
    "    plt.imshow(sample_image)"
   ]
  },
  {
   "cell_type": "code",
   "execution_count": 8,
   "id": "dd9254e2-b6eb-45be-964c-7feadaaaeeea",
   "metadata": {},
   "outputs": [],
   "source": [
    "# TODO [vukan] : This is just for testing, will update the path!\n",
    "TRAIN_PATH = \"../dataset/seg_train/seg_train/mountain\""
   ]
  },
  {
   "cell_type": "code",
   "execution_count": 9,
   "id": "4c592f92-67ee-4abe-86aa-8d162860fa47",
   "metadata": {},
   "outputs": [],
   "source": [
    "\n",
    "def go_though_database(database_path):\n",
    "    all_image_paths = []\n",
    "    for filename in os.listdir(database_path):\n",
    "        f = os.path.join(database_path, filename)\n",
    "        # checking if it is a file\n",
    "        if os.path.isfile(f):\n",
    "            all_image_paths.append(f)\n",
    "            #load(f)\n",
    "            #return\n",
    "    return f"
   ]
  },
  {
   "cell_type": "code",
   "execution_count": 10,
   "id": "8a89cbac-bc3b-486f-a428-1ab179d019bf",
   "metadata": {},
   "outputs": [
    {
     "data": {
      "text/plain": [
       "'../dataset/seg_train/seg_train/mountain/19399.jpg'"
      ]
     },
     "execution_count": 10,
     "metadata": {},
     "output_type": "execute_result"
    }
   ],
   "source": [
    "go_though_database(TRAIN_PATH)"
   ]
  },
  {
   "cell_type": "code",
   "execution_count": null,
   "id": "65c2abe5-b2ef-483a-97cf-59c0eda0794e",
   "metadata": {},
   "outputs": [],
   "source": []
  }
 ],
 "metadata": {
  "kernelspec": {
   "display_name": "Python 3 (ipykernel)",
   "language": "python",
   "name": "python3"
  },
  "language_info": {
   "codemirror_mode": {
    "name": "ipython",
    "version": 3
   },
   "file_extension": ".py",
   "mimetype": "text/x-python",
   "name": "python",
   "nbconvert_exporter": "python",
   "pygments_lexer": "ipython3",
   "version": "3.10.12"
  }
 },
 "nbformat": 4,
 "nbformat_minor": 5
}
