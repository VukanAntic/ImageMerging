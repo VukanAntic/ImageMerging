{
 "cells": [
  {
   "cell_type": "code",
   "execution_count": 6,
   "id": "b13e4236-d181-4db5-afba-ab2149a38f00",
   "metadata": {},
   "outputs": [],
   "source": [
    "import tensorflow as tf\n",
    "from tensorflow import keras\n",
    "from tensorflow.keras import layers\n",
    "from tensorflow.keras.layers import Activation, BatchNormalization, Conv2D, concatenate, Input, ZeroPadding2D\n",
    "from tensorflow.keras.losses import BinaryCrossentropy\n",
    "from tensorflow.keras import activations, Sequential\n",
    "import graphviz"
   ]
  },
  {
   "cell_type": "code",
   "execution_count": 7,
   "id": "c0e75418-19c5-4efa-9d15-7c0ad3af5b34",
   "metadata": {},
   "outputs": [],
   "source": [
    "class Discriminator:\n",
    "    \n",
    "    def __init__(self, shape_of_image):\n",
    "        self.input_layer = Input(shape=shape_of_image, name='input_image')\n",
    "        self.target_layer = Input(shape=shape_of_image, name='target_image')\n",
    "        # size of new input -> (256, 256, 6)\n",
    "        self.current_layer = concatenate([self.input_layer, self.target_layer])\n",
    "\n",
    "        initializer = tf.random_normal_initializer(0., 0.02)\n",
    "        \n",
    "        d1 = self.downsample(64, 4)\n",
    "        d2 = self.downsample(128, 4)\n",
    "        d3 = self.downsample(256, 4)\n",
    "\n",
    "        sequential = Sequential()\n",
    "        zero_padding_1 = ZeroPadding2D()(d3)\n",
    "        conv = Conv2D(filters=512, kernel_size=4, strides=1, kernel_initializer=initializer)(zero_padding_1)\n",
    "        batch_norm = BatchNormalization()(conv)\n",
    "        activation = Activation(activations.relu)(batch_norm)\n",
    "        zero_padding_2 = ZeroPadding2D()(activation)\n",
    "\n",
    "        self.output_layer = Conv2D(filters=1, kernel_size=4, strides=1, kernel_initializer=initializer)(zero_padding_2)\n",
    "        self.model = keras.Model(inputs=[self.input_layer, self.target_layer], outputs=self.output_layer)\n",
    "        self.optimizer = tf.keras.optimizers.Adam(2e-4, beta_1=0.5)\n",
    "\n",
    "\n",
    "    def downsample(self, filters, kernel_size):\n",
    "        initializer = tf.random_normal_initializer(0., 0.02)\n",
    "        \n",
    "        sequential = Sequential()\n",
    "        conv = Conv2D(filters=filters, kernel_size=kernel_size, strides=2, padding='same', kernel_initializer=initializer)\n",
    "        norm = BatchNormalization()\n",
    "        activation = Activation(activations.relu)\n",
    "        \n",
    "        sequential.add(conv)\n",
    "        sequential.add(norm)\n",
    "        sequential.add(activation)\n",
    "\n",
    "        self.current_layer = sequential(self.current_layer)\n",
    "        return self.current_layer\n",
    "\n",
    "    def loss(self, real_output, generated_output):\n",
    "        # discriminator_loss = real_loss + generated_los\n",
    "        binary_cross_entropy = BinaryCrossentropy(from_logits=True)\n",
    "\n",
    "        # binary cross entropy -> discriminator(real image) & 1\n",
    "        real_loss = binary_cross_entropy(tf.ones_like(real_output), real_output)\n",
    "\n",
    "        # binary cross entropy -> discriminator(generated image) & 0\n",
    "        generated_loss = binary_cross_entropy(tf.zeros_like(generated_output), generated_output)\n",
    "        \n",
    "        discriminator_loss = real_loss + generated_loss\n",
    "        return discriminator_loss"
   ]
  },
  {
   "cell_type": "code",
   "execution_count": 8,
   "id": "0f037c95-8bb1-43f0-a52c-5169e4e92e48",
   "metadata": {},
   "outputs": [
    {
     "name": "stdout",
     "output_type": "stream",
     "text": [
      "Model: \"model_1\"\n",
      "__________________________________________________________________________________________________\n",
      " Layer (type)                   Output Shape         Param #     Connected to                     \n",
      "==================================================================================================\n",
      " input_image (InputLayer)       [(None, 256, 256, 3  0           []                               \n",
      "                                )]                                                                \n",
      "                                                                                                  \n",
      " target_image (InputLayer)      [(None, 256, 256, 3  0           []                               \n",
      "                                )]                                                                \n",
      "                                                                                                  \n",
      " concatenate_1 (Concatenate)    (None, 256, 256, 6)  0           ['input_image[0][0]',            \n",
      "                                                                  'target_image[0][0]']           \n",
      "                                                                                                  \n",
      " sequential_4 (Sequential)      (None, 128, 128, 64  6464        ['concatenate_1[0][0]']          \n",
      "                                )                                                                 \n",
      "                                                                                                  \n",
      " sequential_5 (Sequential)      (None, 64, 64, 128)  131712      ['sequential_4[0][0]']           \n",
      "                                                                                                  \n",
      " sequential_6 (Sequential)      (None, 32, 32, 256)  525568      ['sequential_5[0][0]']           \n",
      "                                                                                                  \n",
      " zero_padding2d_2 (ZeroPadding2  (None, 34, 34, 256)  0          ['sequential_6[0][0]']           \n",
      " D)                                                                                               \n",
      "                                                                                                  \n",
      " conv2d_8 (Conv2D)              (None, 31, 31, 512)  2097664     ['zero_padding2d_2[0][0]']       \n",
      "                                                                                                  \n",
      " batch_normalization_7 (BatchNo  (None, 31, 31, 512)  2048       ['conv2d_8[0][0]']               \n",
      " rmalization)                                                                                     \n",
      "                                                                                                  \n",
      " activation_7 (Activation)      (None, 31, 31, 512)  0           ['batch_normalization_7[0][0]']  \n",
      "                                                                                                  \n",
      " zero_padding2d_3 (ZeroPadding2  (None, 33, 33, 512)  0          ['activation_7[0][0]']           \n",
      " D)                                                                                               \n",
      "                                                                                                  \n",
      " conv2d_9 (Conv2D)              (None, 30, 30, 1)    8193        ['zero_padding2d_3[0][0]']       \n",
      "                                                                                                  \n",
      "==================================================================================================\n",
      "Total params: 2,771,649\n",
      "Trainable params: 2,769,729\n",
      "Non-trainable params: 1,920\n",
      "__________________________________________________________________________________________________\n"
     ]
    }
   ],
   "source": [
    "discriminator = Discriminator((256, 256, 3))\n",
    "discriminator_model = discriminator.model\n",
    "discriminator_model.summary()"
   ]
  },
  {
   "cell_type": "code",
   "execution_count": 9,
   "id": "175dd159-663f-40b3-9340-3b292eb852dd",
   "metadata": {},
   "outputs": [
    {
     "name": "stdout",
     "output_type": "stream",
     "text": [
      "You must install pydot (`pip install pydot`) and install graphviz (see instructions at https://graphviz.gitlab.io/download/) for plot_model to work.\n"
     ]
    }
   ],
   "source": [
    "keras.utils.plot_model(discriminator_model, show_shapes=True, dpi=64, to_file='../images/discriminatorModel.png')"
   ]
  },
  {
   "cell_type": "code",
   "execution_count": 10,
   "id": "ea0fc7fb-4ff1-4590-a88c-8ec0372d28f5",
   "metadata": {},
   "outputs": [
    {
     "data": {
      "text/plain": [
       "<keras.optimizers.optimizer_v2.adam.Adam at 0x13687e2cf70>"
      ]
     },
     "execution_count": 10,
     "metadata": {},
     "output_type": "execute_result"
    }
   ],
   "source": [
    "discriminator.optimizer"
   ]
  },
  {
   "cell_type": "code",
   "execution_count": null,
   "id": "7a3ccf9f",
   "metadata": {},
   "outputs": [],
   "source": []
  }
 ],
 "metadata": {
  "kernelspec": {
   "display_name": "Python 3 (ipykernel)",
   "language": "python",
   "name": "python3"
  },
  "language_info": {
   "codemirror_mode": {
    "name": "ipython",
    "version": 3
   },
   "file_extension": ".py",
   "mimetype": "text/x-python",
   "name": "python",
   "nbconvert_exporter": "python",
   "pygments_lexer": "ipython3",
   "version": "3.10.14"
  }
 },
 "nbformat": 4,
 "nbformat_minor": 5
}
